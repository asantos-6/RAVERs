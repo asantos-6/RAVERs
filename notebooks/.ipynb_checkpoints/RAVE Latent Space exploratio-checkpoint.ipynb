{
 "cells": [
  {
   "cell_type": "markdown",
   "id": "8ec63b55",
   "metadata": {},
   "source": [
    "# RAVE Latent Space Exploration"
   ]
  },
  {
   "cell_type": "code",
   "execution_count": 2,
   "id": "2e5dddee",
   "metadata": {},
   "outputs": [],
   "source": [
    "from utils import *\n",
    "import librosa\n",
    "import torch\n",
    "import torchaudio\n",
    "import IPython.display as ipd"
   ]
  },
  {
   "cell_type": "code",
   "execution_count": null,
   "id": "ffc68de8",
   "metadata": {},
   "outputs": [],
   "source": [
    "def read_audio(file_path, trim_interval=None, mono=True, print_it=False):\n",
    "    audio, sr = librosa.load(file_path, mono=mono)\n",
    "    audio_dim = len(audio.shape)\n",
    "    if not mono and audio_dim == 1:\n",
    "        audio = np.asarray((audio, audio))\n",
    "    if trim_interval is not None:\n",
    "        ti = trim_interval[0]\n",
    "        tf = trim_interval[1]\n",
    "        audio = trim_audio(audio, sr, ti, tf, mono)\n",
    "    if print_it:\n",
    "        print(audio.shape)\n",
    "        print(sr)\n",
    "    return audio, sr\n",
    "\n",
    "def trim_audio(audio, sr, ti, tf, mono=True):\n",
    "    i = ti * sr\n",
    "    f = tf * sr\n",
    "    if mono:\n",
    "        t_audio = audio[i:f]\n",
    "    else:\n",
    "        t_audio = audio[:, i:f]\n",
    "    return t_audio"
   ]
  },
  {
   "cell_type": "code",
   "execution_count": null,
   "id": "fbdd46c9",
   "metadata": {},
   "outputs": [],
   "source": [
    "#song = \"ac_dc\"\n",
    "#song = \"amália\"\n",
    "#song = \"amy_winehouse\"\n",
    "#song = \"arctic_monkeys\"\n",
    "#song = \"beatles1\"\n",
    "#song = \"beatles2\"\n",
    "##song = \"capitão_fausto\"\n",
    "#song = \"david_miguel\"\n",
    "#song = \"gorillaz\"\n",
    "#song = \"ibeyi\"\n",
    "#song = \"linda_martini\"\n",
    "#song = \"michael_jackson\"\n",
    "#song = \"qotsa\"\n",
    "##song = \"queen\"\n",
    "#song = \"slowj\"\n",
    "song = \"strokes\"\n",
    "#song = \"white_stripes\"\n",
    "\n",
    "trim = True\n",
    "\n",
    "song_path = song_dict[song]\n",
    "\n",
    "trim_interval = None\n",
    "# choose the interval in which you want to trim the audio (in seconds)\n",
    "if trim:\n",
    "    trim_interval = (115, 122)\n",
    "\n",
    "song_audio, song_sr = read_audio(song_path, trim_interval)"
   ]
  },
  {
   "cell_type": "code",
   "execution_count": null,
   "id": "fda39500",
   "metadata": {},
   "outputs": [],
   "source": [
    "tapped_path = tapped_dict[song]\n",
    "\n",
    "tapped_audio, sr = read_audio(tapped_path, trim_interval)"
   ]
  },
  {
   "cell_type": "code",
   "execution_count": null,
   "id": "2e37ca35",
   "metadata": {},
   "outputs": [],
   "source": [
    "model_name = 'GMDrums_v3_29-09_3M_streaming'\n",
    "model = torch.jit.load(f'../models/GMDrums_v3_29-09_3M_streaming.ts')\n",
    "\n",
    "x = torch.from_numpy(tapped_audio).reshape(1,1,-1)\n",
    "\n",
    "# encode and decode the audio with RAVE\n",
    "z = model.encode(x)\n",
    "\n",
    "x_hat = model.decode(z)\n",
    "waveform_tensor = torch.squeeze(x_hat, 0)"
   ]
  },
  {
   "cell_type": "code",
   "execution_count": null,
   "id": "f25f252b",
   "metadata": {},
   "outputs": [],
   "source": [
    "output_file = 'output.wav'\n",
    "torchaudio.save(output_file, waveform_tensor, sr)\n",
    "\n",
    "audio_display = ipd.Audio(output_file)\n",
    "display(audio_display)"
   ]
  },
  {
   "cell_type": "code",
   "execution_count": null,
   "id": "96b0025d",
   "metadata": {},
   "outputs": [],
   "source": []
  }
 ],
 "metadata": {
  "kernelspec": {
   "display_name": "od-remix-rave-groovae-3.9.9",
   "language": "python",
   "name": "od-remix-rave-groovae-3.9.9"
  },
  "language_info": {
   "codemirror_mode": {
    "name": "ipython",
    "version": 3
   },
   "file_extension": ".py",
   "mimetype": "text/x-python",
   "name": "python",
   "nbconvert_exporter": "python",
   "pygments_lexer": "ipython3",
   "version": "3.9.9"
  }
 },
 "nbformat": 4,
 "nbformat_minor": 5
}
