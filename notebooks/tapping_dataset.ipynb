{
 "cells": [
  {
   "cell_type": "code",
   "execution_count": null,
   "metadata": {},
   "outputs": [],
   "source": [
    "from essentia import FrameGenerator\n",
    "from essentia.standard import *"
   ]
  },
  {
   "cell_type": "code",
   "execution_count": null,
   "metadata": {},
   "outputs": [],
   "source": [
    "filename = \"../mono_kick_seq.wav\"\n",
    "\n",
    "audio = MonoLoader(filename=filename)"
   ]
  },
  {
   "cell_type": "code",
   "execution_count": null,
   "metadata": {},
   "outputs": [],
   "source": [
    "# compute the onset detection function\n",
    "od_hfc = OnsetDetection(method='hfc')\n",
    "od_complex = OnsetDetection(method='complex')\n",
    "\n",
    "# We need the auxilary algorithms to compute magnitude and phase.\n",
    "w = Windowing(type='hann')\n",
    "fft = FFT() # Outputs a complex FFT vector.\n",
    "c2p = CartesianToPolar() # Converts it into a pair of magnitude and phase vectors.\n",
    "\n",
    "# # Compute both ODF frame by frame. Store results to a Pool.\n",
    "pool = essentia.Pool()\n",
    "for frame in FrameGenerator(audio, frameSize=1024, hopSize=512):\n",
    "    magnitude, phase = c2p(fft(w(frame)))\n",
    "    pool.add('odf.hfc', od_hfc(magnitude, phase))\n",
    "    pool.add('odf.complex', od_complex(magnitude, phase))"
   ]
  }
 ],
 "metadata": {
  "kernelspec": {
   "display_name": "devenv",
   "language": "python",
   "name": "python3"
  },
  "language_info": {
   "codemirror_mode": {
    "name": "ipython",
    "version": 3
   },
   "file_extension": ".py",
   "mimetype": "text/x-python",
   "name": "python",
   "nbconvert_exporter": "python",
   "pygments_lexer": "ipython3",
   "version": "3.10.13"
  }
 },
 "nbformat": 4,
 "nbformat_minor": 2
}
