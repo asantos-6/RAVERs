{
  "cells": [
    {
      "cell_type": "markdown",
      "metadata": {},
      "source": [
        "# RAVE: export for the Neutone VST/AU plugin"
      ]
    },
    {
      "cell_type": "code",
      "execution_count": 1,
      "metadata": {},
      "outputs": [],
      "source": [
        "from pathlib import Path\n",
        "from typing import Dict, List\n",
        "\n",
        "import torch\n",
        "from torch import Tensor\n",
        "from neutone_sdk import WaveformToWaveformBase, NeutoneParameter\n",
        "from neutone_sdk.utils import load_neutone_model, save_neutone_model"
      ]
    },
    {
      "cell_type": "code",
      "execution_count": 5,
      "metadata": {
        "colab": {
          "base_uri": "https://localhost:8080/"
        },
        "id": "RD8SH7kBP-wl",
        "outputId": "3ae5cf7f-3c0c-4289-acd0-4eb9a89b3c7f"
      },
      "outputs": [],
      "source": [
        "# \n",
        "\n",
        "class RAVEModelWrapper(WaveformToWaveformBase):\n",
        "    def get_model_name(self) -> str:\n",
        "        return \"RAVE.example\"  # <-EDIT THIS\n",
        "\n",
        "    def get_model_authors(self) -> List[str]:\n",
        "        return [\"Author Name\"]  # <-EDIT THIS\n",
        "\n",
        "    def get_model_short_description(self) -> str:\n",
        "        return \"RAVE model trained on xxx sounds.\"  # <-EDIT THIS\n",
        "\n",
        "    def get_model_long_description(self) -> str:\n",
        "        return (  # <-EDIT THIS\n",
        "            \"RAVE timbre transfer model trained on xxx sounds. Useful for xxx sounds.\"\n",
        "        )\n",
        "\n",
        "    def get_technical_description(self) -> str:\n",
        "        return \"RAVE model proposed by Caillon, Antoine et al.\"\n",
        "\n",
        "    def get_technical_links(self) -> Dict[str, str]:\n",
        "        return {\n",
        "            \"Paper\": \"https://arxiv.org/abs/2111.05011\",\n",
        "            \"Code\": \"https://github.com/acids-ircam/RAVE\",\n",
        "        }\n",
        "\n",
        "    def get_tags(self) -> List[str]:\n",
        "        return [\"timbre transfer\", \"RAVE\"]\n",
        "\n",
        "    def get_model_version(self) -> str:\n",
        "        return \"1.0.0\"\n",
        "\n",
        "    def is_experimental(self) -> bool:\n",
        "        \"\"\"\n",
        "        set to True for models in experimental stage\n",
        "        (status shown on the website)\n",
        "        \"\"\"\n",
        "        return True  # <-EDIT THIS\n",
        "\n",
        "    def get_neutone_parameters(self) -> List[NeutoneParameter]:\n",
        "        return [\n",
        "            # NeutoneParameter(\n",
        "            #     name=\"Chaos\", description=\"Magnitude of latent noise\", default_value=0.0\n",
        "            # ),\n",
        "            # NeutoneParameter(\n",
        "            #     name=\"Z edit index\",\n",
        "            #     description=\"Index of latent dimension to edit\",\n",
        "            #     default_value=0.0,\n",
        "            # ),\n",
        "            # NeutoneParameter(\n",
        "            #     name=\"Z scale\",\n",
        "            #     description=\"Scale of latent variable\",\n",
        "            #     default_value=0.5,\n",
        "            # ),\n",
        "            # NeutoneParameter(\n",
        "            #     name=\"Z offset\",\n",
        "            #     description=\"Offset of latent variable\",\n",
        "            #     default_value=0.5,\n",
        "            # ),\n",
        "        ]\n",
        "\n",
        "    def is_input_mono(self) -> bool:\n",
        "        return True  # <-Set to False for stereo (each channel processed separately)\n",
        "\n",
        "    def is_output_mono(self) -> bool:\n",
        "        return True  # <-Set to False for stereo (each channel processed separately)\n",
        "\n",
        "    def get_native_sample_rates(self) -> List[int]:\n",
        "        return [48000]  # <-EDIT THIS\n",
        "\n",
        "    def get_native_buffer_sizes(self) -> List[int]:\n",
        "        return [2048]\n",
        "\n",
        "    def get_citation(self) -> str:\n",
        "        return \"\"\"Caillon, A., & Esling, P. (2021). RAVE: A variational autoencoder for fast and high-quality neural audio synthesis. arXiv preprint arXiv:2111.05011.\"\"\"\n",
        "\n",
        "    @torch.no_grad()\n",
        "    def do_forward_pass(self, x: Tensor, params: Dict[str, Tensor]) -> Tensor:\n",
        "        # parameters edit the latent variable\n",
        "        z = self.model.encode(x.unsqueeze(1))\n",
        "        # noise_amp = params[\"Chaos\"]\n",
        "        # z = torch.randn_like(z) * noise_amp + z\n",
        "        # add offset / scale\n",
        "        # idx_z = int(\n",
        "        #     torch.clamp(params[\"Z edit index\"], min=0.0, max=0.99)\n",
        "        #     * self.model.latent_size\n",
        "        # )\n",
        "        # z_scale = params[\"Z scale\"] * 2  # 0~1 -> 0~2\n",
        "        # z_offset = params[\"Z offset\"] * 2 - 1  # 0~1 -> -1~1\n",
        "        # z[:, idx_z] = z[:, idx_z] * z_scale + z_offset\n",
        "        out = self.model.decode(z)\n",
        "        out = out.squeeze(1)\n",
        "        return out  # (n_channels=1, sample_size)"
      ]
    },
    {
      "cell_type": "code",
      "execution_count": 8,
      "metadata": {},
      "outputs": [],
      "source": [
        "import glob\n",
        "# ts_files = glob.glob(os.path.join(final_res_folder, '*.ts'))\n",
        "# ts_file = max(ts_files, key=os.path.getctime)\n",
        "ts_file = \"../models/percussion.ts\"\n",
        "\n",
        "# Load model and wrap\n",
        "model = torch.jit.load(ts_file)\n",
        "wrapper = RAVEModelWrapper(model)\n",
        "audio_sample_pairs=None"
      ]
    },
    {
      "cell_type": "code",
      "execution_count": 9,
      "metadata": {},
      "outputs": [
        {
          "name": "stderr",
          "output_type": "stream",
          "text": [
            "INFO:neutone_sdk.utils:Converting model to torchscript...\n"
          ]
        },
        {
          "name": "stderr",
          "output_type": "stream",
          "text": [
            "INFO:neutone_sdk.utils:Extracting metadata...\n",
            "INFO:neutone_sdk.utils:Running model on audio samples...\n",
            "  0%|          | 0/392 [00:00<?, ?it/s]"
          ]
        },
        {
          "ename": "AssertionError",
          "evalue": "Audio tensor must have two dimensions: (channels, samples)",
          "output_type": "error",
          "traceback": [
            "\u001b[0;31m---------------------------------------------------------------------------\u001b[0m",
            "\u001b[0;31mAssertionError\u001b[0m                            Traceback (most recent call last)",
            "Cell \u001b[0;32mIn[9], line 3\u001b[0m\n\u001b[1;32m      1\u001b[0m \u001b[38;5;66;03m#@title Save neutone model\u001b[39;00m\n\u001b[1;32m      2\u001b[0m neutone_save_dir \u001b[38;5;241m=\u001b[39m \u001b[38;5;124m'\u001b[39m\u001b[38;5;124m../neutone/\u001b[39m\u001b[38;5;124m'\u001b[39m\n\u001b[0;32m----> 3\u001b[0m \u001b[43msave_neutone_model\u001b[49m\u001b[43m(\u001b[49m\n\u001b[1;32m      4\u001b[0m \u001b[43m        \u001b[49m\u001b[43mmodel\u001b[49m\u001b[38;5;241;43m=\u001b[39;49m\u001b[43mwrapper\u001b[49m\u001b[43m,\u001b[49m\n\u001b[1;32m      5\u001b[0m \u001b[43m        \u001b[49m\u001b[43mroot_dir\u001b[49m\u001b[38;5;241;43m=\u001b[39;49m\u001b[43mPath\u001b[49m\u001b[43m(\u001b[49m\u001b[43mneutone_save_dir\u001b[49m\u001b[43m)\u001b[49m\u001b[43m,\u001b[49m\n\u001b[1;32m      6\u001b[0m \u001b[43m        \u001b[49m\u001b[43mdump_samples\u001b[49m\u001b[38;5;241;43m=\u001b[39;49m\u001b[38;5;28;43;01mFalse\u001b[39;49;00m\u001b[43m,\u001b[49m\n\u001b[1;32m      7\u001b[0m \u001b[43m        \u001b[49m\u001b[43msubmission\u001b[49m\u001b[38;5;241;43m=\u001b[39;49m\u001b[38;5;28;43;01mTrue\u001b[39;49;00m\u001b[43m,\u001b[49m\u001b[43m \u001b[49m\n\u001b[1;32m      8\u001b[0m \u001b[43m        \u001b[49m\u001b[43maudio_sample_pairs\u001b[49m\u001b[38;5;241;43m=\u001b[39;49m\u001b[43maudio_sample_pairs\u001b[49m\u001b[43m,\u001b[49m\n\u001b[1;32m      9\u001b[0m \u001b[43m        \u001b[49m\u001b[43mfreeze\u001b[49m\u001b[38;5;241;43m=\u001b[39;49m\u001b[38;5;28;43;01mFalse\u001b[39;49;00m\u001b[43m,\u001b[49m\n\u001b[1;32m     10\u001b[0m \u001b[43m        \u001b[49m\u001b[43moptimize\u001b[49m\u001b[38;5;241;43m=\u001b[39;49m\u001b[38;5;28;43;01mFalse\u001b[39;49;00m\u001b[43m,\u001b[49m\n\u001b[1;32m     11\u001b[0m \u001b[43m        \u001b[49m\u001b[43mspeed_benchmark\u001b[49m\u001b[38;5;241;43m=\u001b[39;49m\u001b[38;5;28;43;01mTrue\u001b[39;49;00m\u001b[43m,\u001b[49m\n\u001b[1;32m     12\u001b[0m \u001b[43m)\u001b[49m\n",
            "File \u001b[0;32m~/development/neutone_sdk/neutone_sdk/utils.py:139\u001b[0m, in \u001b[0;36msave_neutone_model\u001b[0;34m(model, root_dir, dump_samples, submission, audio_sample_pairs, max_n_samples, freeze, optimize, speed_benchmark)\u001b[0m\n\u001b[1;32m    137\u001b[0m     audio_sample_pairs \u001b[38;5;241m=\u001b[39m []\n\u001b[1;32m    138\u001b[0m     \u001b[38;5;28;01mfor\u001b[39;00m input_sample \u001b[38;5;129;01min\u001b[39;00m input_samples:\n\u001b[0;32m--> 139\u001b[0m         rendered_sample \u001b[38;5;241m=\u001b[39m \u001b[43mrender_audio_sample\u001b[49m\u001b[43m(\u001b[49m\u001b[43msqw\u001b[49m\u001b[43m,\u001b[49m\u001b[43m \u001b[49m\u001b[43minput_sample\u001b[49m\u001b[43m)\u001b[49m\n\u001b[1;32m    140\u001b[0m         audio_sample_pairs\u001b[38;5;241m.\u001b[39mappend(\n\u001b[1;32m    141\u001b[0m             AudioSamplePair(input_sample, rendered_sample)\n\u001b[1;32m    142\u001b[0m         )\n\u001b[1;32m    144\u001b[0m metadata[\u001b[38;5;124m\"\u001b[39m\u001b[38;5;124msample_sound_files\u001b[39m\u001b[38;5;124m\"\u001b[39m] \u001b[38;5;241m=\u001b[39m [\n\u001b[1;32m    145\u001b[0m     pair\u001b[38;5;241m.\u001b[39mto_metadata_format() \u001b[38;5;28;01mfor\u001b[39;00m pair \u001b[38;5;129;01min\u001b[39;00m audio_sample_pairs[:max_n_samples]\n\u001b[1;32m    146\u001b[0m ]\n",
            "File \u001b[0;32m~/development/neutone_sdk/neutone_sdk/audio.py:218\u001b[0m, in \u001b[0;36mrender_audio_sample\u001b[0;34m(model, input_sample, params, output_sr)\u001b[0m\n\u001b[1;32m    210\u001b[0m     out_chunks \u001b[38;5;241m=\u001b[39m [\n\u001b[1;32m    211\u001b[0m         model\u001b[38;5;241m.\u001b[39mforward(audio_chunk, param_chunk)\u001b[38;5;241m.\u001b[39mclone()\n\u001b[1;32m    212\u001b[0m         \u001b[38;5;28;01mfor\u001b[39;00m audio_chunk, param_chunk \u001b[38;5;129;01min\u001b[39;00m tqdm(\n\u001b[1;32m    213\u001b[0m             \u001b[38;5;28mzip\u001b[39m(audio_chunks, param_chunks), total\u001b[38;5;241m=\u001b[39m\u001b[38;5;28mlen\u001b[39m(audio_chunks)\n\u001b[1;32m    214\u001b[0m         )\n\u001b[1;32m    215\u001b[0m     ]\n\u001b[1;32m    217\u001b[0m \u001b[38;5;28;01melse\u001b[39;00m:\n\u001b[0;32m--> 218\u001b[0m     out_chunks \u001b[38;5;241m=\u001b[39m [\n\u001b[1;32m    219\u001b[0m         model\u001b[38;5;241m.\u001b[39mforward(audio_chunk, \u001b[38;5;28;01mNone\u001b[39;00m)\u001b[38;5;241m.\u001b[39mclone()\n\u001b[1;32m    220\u001b[0m         \u001b[38;5;28;01mfor\u001b[39;00m audio_chunk \u001b[38;5;129;01min\u001b[39;00m tqdm(audio_chunks)\n\u001b[1;32m    221\u001b[0m     ]\n\u001b[1;32m    223\u001b[0m audio_out \u001b[38;5;241m=\u001b[39m tr\u001b[38;5;241m.\u001b[39mhstack(out_chunks)[:, :audio_len]\n\u001b[1;32m    225\u001b[0m model\u001b[38;5;241m.\u001b[39mreset()\n",
            "File \u001b[0;32m~/development/neutone_sdk/neutone_sdk/audio.py:219\u001b[0m, in \u001b[0;36m<listcomp>\u001b[0;34m(.0)\u001b[0m\n\u001b[1;32m    210\u001b[0m     out_chunks \u001b[38;5;241m=\u001b[39m [\n\u001b[1;32m    211\u001b[0m         model\u001b[38;5;241m.\u001b[39mforward(audio_chunk, param_chunk)\u001b[38;5;241m.\u001b[39mclone()\n\u001b[1;32m    212\u001b[0m         \u001b[38;5;28;01mfor\u001b[39;00m audio_chunk, param_chunk \u001b[38;5;129;01min\u001b[39;00m tqdm(\n\u001b[1;32m    213\u001b[0m             \u001b[38;5;28mzip\u001b[39m(audio_chunks, param_chunks), total\u001b[38;5;241m=\u001b[39m\u001b[38;5;28mlen\u001b[39m(audio_chunks)\n\u001b[1;32m    214\u001b[0m         )\n\u001b[1;32m    215\u001b[0m     ]\n\u001b[1;32m    217\u001b[0m \u001b[38;5;28;01melse\u001b[39;00m:\n\u001b[1;32m    218\u001b[0m     out_chunks \u001b[38;5;241m=\u001b[39m [\n\u001b[0;32m--> 219\u001b[0m         \u001b[43mmodel\u001b[49m\u001b[38;5;241;43m.\u001b[39;49m\u001b[43mforward\u001b[49m\u001b[43m(\u001b[49m\u001b[43maudio_chunk\u001b[49m\u001b[43m,\u001b[49m\u001b[43m \u001b[49m\u001b[38;5;28;43;01mNone\u001b[39;49;00m\u001b[43m)\u001b[49m\u001b[38;5;241m.\u001b[39mclone()\n\u001b[1;32m    220\u001b[0m         \u001b[38;5;28;01mfor\u001b[39;00m audio_chunk \u001b[38;5;129;01min\u001b[39;00m tqdm(audio_chunks)\n\u001b[1;32m    221\u001b[0m     ]\n\u001b[1;32m    223\u001b[0m audio_out \u001b[38;5;241m=\u001b[39m tr\u001b[38;5;241m.\u001b[39mhstack(out_chunks)[:, :audio_len]\n\u001b[1;32m    225\u001b[0m model\u001b[38;5;241m.\u001b[39mreset()\n",
            "File \u001b[0;32m/usr/local/Cellar/python@3.10/3.10.13_1/envs/devenv/lib/python3.10/site-packages/torch/utils/_contextlib.py:115\u001b[0m, in \u001b[0;36mcontext_decorator.<locals>.decorate_context\u001b[0;34m(*args, **kwargs)\u001b[0m\n\u001b[1;32m    112\u001b[0m \u001b[38;5;129m@functools\u001b[39m\u001b[38;5;241m.\u001b[39mwraps(func)\n\u001b[1;32m    113\u001b[0m \u001b[38;5;28;01mdef\u001b[39;00m \u001b[38;5;21mdecorate_context\u001b[39m(\u001b[38;5;241m*\u001b[39margs, \u001b[38;5;241m*\u001b[39m\u001b[38;5;241m*\u001b[39mkwargs):\n\u001b[1;32m    114\u001b[0m     \u001b[38;5;28;01mwith\u001b[39;00m ctx_factory():\n\u001b[0;32m--> 115\u001b[0m         \u001b[38;5;28;01mreturn\u001b[39;00m \u001b[43mfunc\u001b[49m\u001b[43m(\u001b[49m\u001b[38;5;241;43m*\u001b[39;49m\u001b[43margs\u001b[49m\u001b[43m,\u001b[49m\u001b[43m \u001b[49m\u001b[38;5;241;43m*\u001b[39;49m\u001b[38;5;241;43m*\u001b[39;49m\u001b[43mkwargs\u001b[49m\u001b[43m)\u001b[49m\n",
            "File \u001b[0;32m~/development/neutone_sdk/neutone_sdk/sqw.py:260\u001b[0m, in \u001b[0;36mSampleQueueWrapper.forward\u001b[0;34m(self, x, params)\u001b[0m\n\u001b[1;32m    258\u001b[0m x \u001b[38;5;241m=\u001b[39m \u001b[38;5;28mself\u001b[39m\u001b[38;5;241m.\u001b[39mchannel_normalizer(x, \u001b[38;5;28mself\u001b[39m\u001b[38;5;241m.\u001b[39mis_input_mono(), \u001b[38;5;28mself\u001b[39m\u001b[38;5;241m.\u001b[39mdaw_buffer)\n\u001b[1;32m    259\u001b[0m x \u001b[38;5;241m=\u001b[39m \u001b[38;5;28mself\u001b[39m\u001b[38;5;241m.\u001b[39mresample_sandwich\u001b[38;5;241m.\u001b[39mprocess_in(x)\n\u001b[0;32m--> 260\u001b[0m \u001b[38;5;28;43mself\u001b[39;49m\u001b[38;5;241;43m.\u001b[39;49m\u001b[43m_forward\u001b[49m\u001b[43m(\u001b[49m\u001b[43mx\u001b[49m\u001b[43m,\u001b[49m\u001b[43m \u001b[49m\u001b[43mparams\u001b[49m\u001b[43m)\u001b[49m\n\u001b[1;32m    262\u001b[0m \u001b[38;5;28;01mif\u001b[39;00m \u001b[38;5;28mself\u001b[39m\u001b[38;5;241m.\u001b[39mis_queue_saturated:\n\u001b[1;32m    263\u001b[0m     out_popped_n \u001b[38;5;241m=\u001b[39m \u001b[38;5;28mself\u001b[39m\u001b[38;5;241m.\u001b[39mout_queue\u001b[38;5;241m.\u001b[39mpop(\u001b[38;5;28mself\u001b[39m\u001b[38;5;241m.\u001b[39mio_out_buffer)\n",
            "File \u001b[0;32m~/development/neutone_sdk/neutone_sdk/sqw.py:251\u001b[0m, in \u001b[0;36mSampleQueueWrapper._forward\u001b[0;34m(self, resampled_x, params)\u001b[0m\n\u001b[1;32m    246\u001b[0m     model_out \u001b[38;5;241m=\u001b[39m \u001b[38;5;28mself\u001b[39m\u001b[38;5;241m.\u001b[39mw2w_base\u001b[38;5;241m.\u001b[39mforward(\n\u001b[1;32m    247\u001b[0m         \u001b[38;5;28mself\u001b[39m\u001b[38;5;241m.\u001b[39mmodel_in_buffer, \u001b[38;5;28mself\u001b[39m\u001b[38;5;241m.\u001b[39mparams_buffer\n\u001b[1;32m    248\u001b[0m     )\n\u001b[1;32m    250\u001b[0m \u001b[38;5;28;01mif\u001b[39;00m \u001b[38;5;28mself\u001b[39m\u001b[38;5;241m.\u001b[39muse_debug_mode:\n\u001b[0;32m--> 251\u001b[0m     \u001b[43mvalidate_waveform\u001b[49m\u001b[43m(\u001b[49m\u001b[43mmodel_out\u001b[49m\u001b[43m,\u001b[49m\u001b[43m \u001b[49m\u001b[38;5;28;43mself\u001b[39;49m\u001b[38;5;241;43m.\u001b[39;49m\u001b[43mis_output_mono\u001b[49m\u001b[43m(\u001b[49m\u001b[43m)\u001b[49m\u001b[43m)\u001b[49m\n\u001b[1;32m    252\u001b[0m \u001b[38;5;28mself\u001b[39m\u001b[38;5;241m.\u001b[39mout_queue\u001b[38;5;241m.\u001b[39mpush(model_out)\n",
            "File \u001b[0;32m~/development/neutone_sdk/neutone_sdk/utils.py:270\u001b[0m, in \u001b[0;36mvalidate_waveform\u001b[0;34m(x, is_mono)\u001b[0m\n\u001b[1;32m    269\u001b[0m \u001b[38;5;28;01mdef\u001b[39;00m \u001b[38;5;21mvalidate_waveform\u001b[39m(x: Tensor, is_mono: \u001b[38;5;28mbool\u001b[39m) \u001b[38;5;241m-\u001b[39m\u001b[38;5;241m>\u001b[39m \u001b[38;5;28;01mNone\u001b[39;00m:\n\u001b[0;32m--> 270\u001b[0m     \u001b[38;5;28;01massert\u001b[39;00m x\u001b[38;5;241m.\u001b[39mndim \u001b[38;5;241m==\u001b[39m \u001b[38;5;241m2\u001b[39m, \u001b[38;5;124m\"\u001b[39m\u001b[38;5;124mAudio tensor must have two dimensions: (channels, samples)\u001b[39m\u001b[38;5;124m\"\u001b[39m\n\u001b[1;32m    271\u001b[0m     \u001b[38;5;28;01mif\u001b[39;00m is_mono:\n\u001b[1;32m    272\u001b[0m         \u001b[38;5;28;01massert\u001b[39;00m (\n\u001b[1;32m    273\u001b[0m             x\u001b[38;5;241m.\u001b[39mshape[\u001b[38;5;241m0\u001b[39m] \u001b[38;5;241m==\u001b[39m \u001b[38;5;241m1\u001b[39m\n\u001b[1;32m    274\u001b[0m         ), \u001b[38;5;124m\"\u001b[39m\u001b[38;5;124mAudio tensor should be mono and have exactly one channel\u001b[39m\u001b[38;5;124m\"\u001b[39m\n",
            "\u001b[0;31mAssertionError\u001b[0m: Audio tensor must have two dimensions: (channels, samples)"
          ]
        }
      ],
      "source": [
        "#@title Save neutone model\n",
        "neutone_save_dir = '../neutone/'\n",
        "save_neutone_model(\n",
        "        model=wrapper,\n",
        "        root_dir=Path(neutone_save_dir),\n",
        "        dump_samples=False,\n",
        "        submission=True, \n",
        "        audio_sample_pairs=audio_sample_pairs,\n",
        "        freeze=False,\n",
        "        optimize=False,\n",
        "        speed_benchmark=True,\n",
        ")"
      ]
    },
    {
      "cell_type": "code",
      "execution_count": null,
      "metadata": {},
      "outputs": [],
      "source": []
    }
  ],
  "metadata": {
    "colab": {
      "provenance": []
    },
    "kernelspec": {
      "display_name": "Python 3",
      "name": "python3"
    },
    "language_info": {
      "codemirror_mode": {
        "name": "ipython",
        "version": 3
      },
      "file_extension": ".py",
      "mimetype": "text/x-python",
      "name": "python",
      "nbconvert_exporter": "python",
      "pygments_lexer": "ipython3",
      "version": "3.10.13"
    }
  },
  "nbformat": 4,
  "nbformat_minor": 0
}
